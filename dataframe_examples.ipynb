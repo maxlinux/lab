{
 "cells": [
  {
   "cell_type": "code",
   "execution_count": 1,
   "metadata": {},
   "outputs": [],
   "source": [
    "import pandas as pd"
   ]
  },
  {
   "cell_type": "code",
   "execution_count": 3,
   "metadata": {},
   "outputs": [
    {
     "data": {
      "text/html": [
       "<style  type=\"text/css\" >\n",
       "</style><table id=\"T_019d9e04_19a9_11eb_9721_72000496e020\" ><thead>    <tr>        <th class=\"blank level0\" ></th>        <th class=\"col_heading level0 col0\" >0</th>    </tr></thead><tbody>\n",
       "                <tr>\n",
       "                        <th id=\"T_019d9e04_19a9_11eb_9721_72000496e020level0_row0\" class=\"row_heading level0 row0\" >0</th>\n",
       "                        <td id=\"T_019d9e04_19a9_11eb_9721_72000496e020row0_col0\" class=\"data row0 col0\" ><a href=\"http://google.com\">google</a></td>\n",
       "            </tr>\n",
       "            <tr>\n",
       "                        <th id=\"T_019d9e04_19a9_11eb_9721_72000496e020level0_row1\" class=\"row_heading level0 row1\" >1</th>\n",
       "                        <td id=\"T_019d9e04_19a9_11eb_9721_72000496e020row1_col0\" class=\"data row1 col0\" ><a href=\"http://duckduckgo.com\">duckduckgo</a></td>\n",
       "            </tr>\n",
       "    </tbody></table>"
      ],
      "text/plain": [
       "<pandas.io.formats.style.Styler at 0x121ef1a60>"
      ]
     },
     "execution_count": 3,
     "metadata": {},
     "output_type": "execute_result"
    }
   ],
   "source": [
    "df = pd.DataFrame(['google', 'duckduckgo'])\n",
    "\n",
    "def make_clickable(val):\n",
    "    return '<a href=\"http://{}.com\">{}</a>'.format(val,val)\n",
    "\n",
    "df.style.format(make_clickable)\n"
   ]
  },
  {
   "cell_type": "code",
   "execution_count": null,
   "metadata": {},
   "outputs": [],
   "source": []
  }
 ],
 "metadata": {
  "kernelspec": {
   "display_name": "Python 3",
   "language": "python",
   "name": "python3"
  },
  "language_info": {
   "codemirror_mode": {
    "name": "ipython",
    "version": 3
   },
   "file_extension": ".py",
   "mimetype": "text/x-python",
   "name": "python",
   "nbconvert_exporter": "python",
   "pygments_lexer": "ipython3",
   "version": "3.8.5"
  }
 },
 "nbformat": 4,
 "nbformat_minor": 4
}
